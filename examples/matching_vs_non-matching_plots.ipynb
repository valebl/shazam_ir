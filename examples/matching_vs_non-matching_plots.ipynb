{
 "cells": [
  {
   "cell_type": "markdown",
   "id": "874272ea",
   "metadata": {},
   "source": [
    "# Example: matching vs non matching tracks"
   ]
  },
  {
   "cell_type": "code",
   "execution_count": 1,
   "id": "12361997",
   "metadata": {},
   "outputs": [],
   "source": [
    "import os\n",
    "import sys\n",
    "\n",
    "module_path = os.path.abspath(os.path.join('..\\\\shazir'))\n",
    "if module_path not in sys.path:\n",
    "    sys.path.append(module_path)"
   ]
  },
  {
   "cell_type": "code",
   "execution_count": 2,
   "id": "d820ad13",
   "metadata": {},
   "outputs": [],
   "source": [
    "from preprocess import process_audio_file\n",
    "from plots import plot_spectrogram, plot_peaks_constellation, plot_matching_hash_locations\n",
    "from fingerprints import make_peaks_constellation, make_fingerprint"
   ]
  },
  {
   "cell_type": "code",
   "execution_count": 3,
   "id": "2ed6db57",
   "metadata": {},
   "outputs": [],
   "source": [
    "cwd = os.getcwd()\n",
    "\n",
    "if not os.path.exists('fig'):\n",
    "    os.makedirs('fig')\n",
    "dir_output= cwd + '/fig/'"
   ]
  },
  {
   "cell_type": "code",
   "execution_count": 4,
   "id": "be8aa220",
   "metadata": {},
   "outputs": [],
   "source": [
    "%config InlineBackend.figure_format = 'svg'"
   ]
  },
  {
   "cell_type": "markdown",
   "id": "fa366611",
   "metadata": {},
   "source": [
    "## Preprocess - sample (trimmed)\n",
    "\n",
    "In this case the sample is taken from the track, therefore we expect to have a mathing."
   ]
  },
  {
   "cell_type": "code",
   "execution_count": 5,
   "id": "fd6866c6",
   "metadata": {},
   "outputs": [],
   "source": [
    "dir = '../resources/'\n",
    "sample_file = 'Sample_trimmed.wav'"
   ]
  },
  {
   "cell_type": "code",
   "execution_count": 6,
   "id": "f63c09aa",
   "metadata": {},
   "outputs": [
    {
     "name": "stdout",
     "output_type": "stream",
     "text": [
      "Processing track: ../resources/Sample_trimmed.wav\n",
      "file Sample_trimmed.wav processed...\n",
      "Peaks identified...\n"
     ]
    }
   ],
   "source": [
    "sample_times, sample_frequencies, sample_amp_norm = process_audio_file(dir+sample_file)\n",
    "print(f'file {sample_file} processed...')\n",
    "\n",
    "sample_peaks_times, sample_peaks_frequencies = make_peaks_constellation(sample_times, sample_frequencies, sample_amp_norm)\n",
    "print(f'Peaks identified...')"
   ]
  },
  {
   "cell_type": "code",
   "execution_count": 7,
   "id": "014e13b4",
   "metadata": {},
   "outputs": [],
   "source": [
    "plot_spectrogram(sample_times, sample_frequencies, sample_amp_norm, dir_output, track_name=sample_file)\n",
    "plot_peaks_constellation(sample_frequencies, sample_times, sample_peaks_times, sample_peaks_frequencies, dir_output, track_name=sample_file)    "
   ]
  },
  {
   "cell_type": "code",
   "execution_count": null,
   "id": "3b80cf7d",
   "metadata": {},
   "outputs": [],
   "source": [
    "fingerprints_sample = make_fingerprint(dir+sample_file)"
   ]
  },
  {
   "cell_type": "markdown",
   "id": "9e64dc6d",
   "metadata": {},
   "source": [
    "## Preprocess - matching track"
   ]
  },
  {
   "cell_type": "code",
   "execution_count": null,
   "id": "5c0ef63f",
   "metadata": {},
   "outputs": [],
   "source": [
    "audio_file = 'Coldplay_Violet-Hill.wav'"
   ]
  },
  {
   "cell_type": "code",
   "execution_count": null,
   "id": "05d89115",
   "metadata": {},
   "outputs": [],
   "source": [
    "times, frequencies, amp_norm = process_audio_file(audio_file)\n",
    "print(f'file {audio_file} processed...')\n",
    "\n",
    "peaks_times, peaks_frequencies = make_peaks_constellation(times,frequencies, amp_norm)\n",
    "print(f'Peaks identified...')"
   ]
  },
  {
   "cell_type": "code",
   "execution_count": null,
   "id": "316cdd79",
   "metadata": {
    "scrolled": true
   },
   "outputs": [],
   "source": [
    "plot_spectrogram(times, frequencies, amp_norm, dir_output, track_name=audio_file)\n",
    "plot_peaks_constellation(frequencies, times, peaks_times, peaks_frequencies, dir_output, track_name=audio_file)    "
   ]
  },
  {
   "cell_type": "code",
   "execution_count": null,
   "id": "9548ea22",
   "metadata": {
    "scrolled": false
   },
   "outputs": [],
   "source": [
    "fingerprints = make_fingerprint(audio_file)"
   ]
  },
  {
   "cell_type": "markdown",
   "id": "4a1af937",
   "metadata": {},
   "source": [
    "## Matching hash locations - matching track"
   ]
  },
  {
   "cell_type": "code",
   "execution_count": null,
   "id": "408f2c27",
   "metadata": {
    "scrolled": true
   },
   "outputs": [],
   "source": [
    "plot_matching_hash_locations(fingerprints, fingerprints_sample, dir_output)"
   ]
  },
  {
   "cell_type": "markdown",
   "id": "e3af9d15",
   "metadata": {},
   "source": [
    "## Preprocess - non matching track"
   ]
  },
  {
   "cell_type": "code",
   "execution_count": null,
   "id": "7c7c353e",
   "metadata": {},
   "outputs": [],
   "source": [
    "nm_audio_file = 'The-Beatles_Hey-Jude.wav'"
   ]
  },
  {
   "cell_type": "code",
   "execution_count": null,
   "id": "259b5b96",
   "metadata": {},
   "outputs": [],
   "source": [
    "nm_times, nm_frequencies, nm_amp_norm = process_audio_file(nm_audio_file)\n",
    "print(f'file {nm_audio_file} processed...')\n",
    "\n",
    "nm_peaks_times, nm_peaks_frequencies = make_peaks_constellation(nm_times, nm_frequencies, nm_amp_norm)\n",
    "print(f'Peaks identified...')"
   ]
  },
  {
   "cell_type": "code",
   "execution_count": null,
   "id": "7ee99a46",
   "metadata": {
    "scrolled": true
   },
   "outputs": [],
   "source": [
    "plot_spectrogram(nm_times, nm_frequencies, nm_amp_norm, dir_output, track_name=nm_audio_file)\n",
    "plot_peaks_constellation(nm_frequencies, nm_times, nm_peaks_times, nm_peaks_frequencies, dir_output, track_name=audio_file)    "
   ]
  },
  {
   "cell_type": "code",
   "execution_count": null,
   "id": "8c330bbc",
   "metadata": {
    "scrolled": false
   },
   "outputs": [],
   "source": [
    "nm_fingerprints = make_fingerprint(nm_audio_file)"
   ]
  },
  {
   "cell_type": "markdown",
   "id": "5cda6327",
   "metadata": {},
   "source": [
    "## Matching hash locations - matching track"
   ]
  },
  {
   "cell_type": "code",
   "execution_count": null,
   "id": "100a5f45",
   "metadata": {
    "scrolled": true
   },
   "outputs": [],
   "source": [
    "plot_matching_hash_locations(nm_fingerprints, fingerprints_sample, dir_output)"
   ]
  }
 ],
 "metadata": {
  "kernelspec": {
   "display_name": "Python [conda env:shazir]",
   "language": "python",
   "name": "conda-env-shazir-py"
  },
  "language_info": {
   "codemirror_mode": {
    "name": "ipython",
    "version": 3
   },
   "file_extension": ".py",
   "mimetype": "text/x-python",
   "name": "python",
   "nbconvert_exporter": "python",
   "pygments_lexer": "ipython3",
   "version": "3.9.9"
  }
 },
 "nbformat": 4,
 "nbformat_minor": 5
}
